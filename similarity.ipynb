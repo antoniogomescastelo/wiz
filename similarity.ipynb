{
 "cells": [
  {
   "cell_type": "code",
   "execution_count": 161,
   "metadata": {},
   "outputs": [],
   "source": [
    "import json\n",
    "import logging\n",
    "import requests\n",
    "import math\n",
    "\n",
    "from requests import Request, Session\n",
    "\n",
    "from requests.auth import HTTPBasicAuth\n",
    "\n",
    "import pandas as pd\n",
    "import numpy as np\n",
    "\n",
    "import seaborn as sns\n",
    "import matplotlib.pyplot as plt\n",
    "import altair as alt\n",
    "\n",
    "alt.data_transformers.enable(\"vegafusion\")\n",
    "\n",
    "import ipywidgets as widgets"
   ]
  },
  {
   "cell_type": "code",
   "execution_count": 162,
   "metadata": {},
   "outputs": [],
   "source": [
    "def get_config():\n",
    "    logging.getLogger().debug(\"get config\")\n",
    "\n",
    "    with open('config.json', \"r\") as f:\n",
    "        config = json.load(f)\n",
    "\n",
    "    return config"
   ]
  },
  {
   "cell_type": "code",
   "execution_count": 163,
   "metadata": {},
   "outputs": [],
   "source": [
    "def get_collibra(config):\n",
    "    logging.getLogger().debug(\"get collibra\")\n",
    "\n",
    "    collibra = {}\n",
    "\n",
    "    collibra[\"host\"] = f\"https://{config['collibra_host']}\"\n",
    "\n",
    "    collibra[\"username\"] = config['collibra_username']\n",
    "\n",
    "    collibra[\"password\"] = config['collibra_password']\n",
    "\n",
    "    collibra[\"endpoint\"] = f\"{collibra['host']}{config['collibra_api_endpoint']}\"\n",
    "\n",
    "    collibra[\"session\"] = Session()\n",
    "\n",
    "    collibra.get(\"session\").auth = HTTPBasicAuth(collibra.get(\"username\"), collibra.get(\"password\"))\n",
    "\n",
    "    return collibra"
   ]
  },
  {
   "cell_type": "code",
   "execution_count": 164,
   "metadata": {},
   "outputs": [],
   "source": [
    "def get_response(method, url, data, limit, session):\n",
    "    logging.getLogger().debug(\"send request\")\n",
    "\n",
    "    offset = 0\n",
    "    \n",
    "    results = []\n",
    "\n",
    "    while True:\n",
    "        request = Request(\n",
    "            method=method,\n",
    "            url=f\"{url}&offset={offset}&limit={limit}\",\n",
    "            headers = {'accept': 'application/json', 'Content-Type': 'application/json'},\n",
    "            data = data\n",
    "        )\n",
    "\n",
    "        request = session.prepare_request(request)\n",
    "   \n",
    "        response = session.send(request)\n",
    "\n",
    "        if response.status_code != requests.codes.ok: raise Exception(f'Error: {response.text}') \n",
    "\n",
    "        if not response.json()['results']: break\n",
    "\n",
    "        results = results + response.json()['results']\n",
    "\n",
    "        offset+=limit\n",
    "\n",
    "    return results"
   ]
  },
  {
   "cell_type": "code",
   "execution_count": 165,
   "metadata": {},
   "outputs": [],
   "source": [
    "def get_names_per_database(names_per_database, names):\n",
    "    dbname = f\"{names[0]}>{names[1]}\"\n",
    "\n",
    "    if dbname not in names_per_database:\n",
    "        names_per_database[dbname] = []\n",
    "\n",
    "    if names[2].upper() not in names_per_database[dbname]:\n",
    "        names_per_database[dbname].append(names[2].upper())\n",
    "\n",
    "    if names[3].upper() not in names_per_database[dbname]:\n",
    "        names_per_database[dbname].append(names[3].upper())\n",
    "\n",
    "    return names_per_database"
   ]
  },
  {
   "cell_type": "code",
   "execution_count": 166,
   "metadata": {},
   "outputs": [],
   "source": [
    "def jaccard_similarity(x, y):\n",
    "  intersection_cardinality = len(set.intersection(*[set(x), set(y)]))\n",
    "\n",
    "  union_cardinality = len(set.union(*[set(x), set(y)]))\n",
    "\n",
    "  #return round(intersection_cardinality/float(union_cardinality) *100)\n",
    "  return intersection_cardinality/float(union_cardinality)"
   ]
  },
  {
   "cell_type": "code",
   "execution_count": 167,
   "metadata": {},
   "outputs": [],
   "source": [
    "def update_matrix(matrix, x, y, v):\n",
    "    matrix[x][y] = v"
   ]
  },
  {
   "cell_type": "code",
   "execution_count": 168,
   "metadata": {},
   "outputs": [],
   "source": [
    "def main():\n",
    "    config = get_config()\n",
    "\n",
    "    collibra = get_collibra(config)\n",
    "\n",
    "    response = get_response(\"GET\", f\"{collibra.get('endpoint')}/assets?typePublicIds=Table&typeInheritance=true&sortField=NAME&sortOrder=ASC\", None, 1000, collibra.get(\"session\"))\n",
    "\n",
    "    all_table_names = list(map(lambda x: f\"{x['domain']['id']}>{x['name']}\".split('>'), filter(lambda x: x['name'].count('>')==3 , response))) # only tables complying with the new edge naming convention c>d>s>t\n",
    "\n",
    "    names_per_database = {}\n",
    "\n",
    "    _=list(map(lambda x: get_names_per_database(names_per_database, x), all_table_names)) \n",
    "\n",
    "    # build empty matrix \n",
    "    n = len(names_per_database.keys())\n",
    "    arr = np.array([None] *n*n, dtype=float)\n",
    "\n",
    "    matrix = arr.reshape(n, n)\n",
    "\n",
    "    # update matrix with similarity\n",
    "    l=list(names_per_database.keys())\n",
    "\n",
    "    _=[update_matrix(matrix, lk, ck, jaccard_similarity(names_per_database[l[lk]], names_per_database[l[ck]])) for lk, lv in enumerate(l) for ck, cv in enumerate(l)]\n",
    "\n",
    "    similarity_df = pd.DataFrame(matrix, columns=list(names_per_database.keys()), index=list(names_per_database.keys()))\n",
    "    \n",
    "    similarity_df_melted = pd.melt(similarity_df.reset_index(), id_vars=['index'], value_vars=similarity_df.columns)\n",
    "\n",
    "    return names_per_database, similarity_df, similarity_df_melted"
   ]
  },
  {
   "cell_type": "code",
   "execution_count": 169,
   "metadata": {},
   "outputs": [],
   "source": [
    "if __name__ == '__main__':\n",
    "    names_per_database, similarity_df, similarity_df_melted = main() "
   ]
  },
  {
   "cell_type": "code",
   "execution_count": 170,
   "metadata": {},
   "outputs": [],
   "source": [
    "# done"
   ]
  },
  {
   "cell_type": "markdown",
   "metadata": {},
   "source": [
    "## Select \n",
    "\n",
    "Select the database you want to check"
   ]
  },
  {
   "cell_type": "code",
   "execution_count": 27,
   "metadata": {},
   "outputs": [
    {
     "data": {
      "application/vnd.jupyter.widget-view+json": {
       "model_id": "2e8ec24f0dc144838e562ccbe8182231",
       "version_major": 2,
       "version_minor": 0
      },
      "text/plain": [
       "Select(description='Database', layout=Layout(width='70%'), options=('', '018d9eff-0565-7304-ae0b-f3dd09381b1f>…"
      ]
     },
     "metadata": {},
     "output_type": "display_data"
    }
   ],
   "source": [
    "database_A = widgets.Select(options=sorted([\"\"]+list(names_per_database.keys())), description='Database', layout=widgets.Layout(width='70%'))\n",
    "\n",
    "display(database_A)"
   ]
  },
  {
   "cell_type": "markdown",
   "metadata": {},
   "source": [
    "## Select \n",
    "\n",
    "Choose the database to query against"
   ]
  },
  {
   "cell_type": "code",
   "execution_count": 28,
   "metadata": {},
   "outputs": [
    {
     "data": {
      "application/vnd.jupyter.widget-view+json": {
       "model_id": "a1a5cbdf25104a68824435081572eda0",
       "version_major": 2,
       "version_minor": 0
      },
      "text/plain": [
       "Select(description='Database', layout=Layout(width='70%'), options=('', '018d9eff-0565-7304-ae0b-f3dd09381b1f>…"
      ]
     },
     "metadata": {},
     "output_type": "display_data"
    }
   ],
   "source": [
    "database_B = widgets.Select(options=sorted([\"\"]+list(names_per_database.keys())), description='Database', layout=widgets.Layout(width='70%'))\n",
    "\n",
    "display(database_B)"
   ]
  },
  {
   "cell_type": "markdown",
   "metadata": {},
   "source": [
    "## Select\n",
    " \n",
    "Select the similarity index you want to start query with"
   ]
  },
  {
   "cell_type": "code",
   "execution_count": 87,
   "metadata": {},
   "outputs": [
    {
     "data": {
      "application/vnd.jupyter.widget-view+json": {
       "model_id": "af256eba8b234567b0488d87837ab120",
       "version_major": 2,
       "version_minor": 0
      },
      "text/plain": [
       "FloatSlider(value=0.6, continuous_update=False, description='Similarity', layout=Layout(width='70%'), max=1.0,…"
      ]
     },
     "metadata": {},
     "output_type": "display_data"
    }
   ],
   "source": [
    "number = widgets.FloatSlider(\n",
    "    value=.6,\n",
    "    min=0,\n",
    "    max=1.0,\n",
    "    step=0.05,\n",
    "    description='Similarity',\n",
    "    disabled=False,\n",
    "    continuous_update=False,\n",
    "    orientation='horizontal',\n",
    "    readout=True,\n",
    "    readout_format='.2f',\n",
    "    layout=widgets.Layout(width='70%')\n",
    ")\n",
    "\n",
    "display(number)"
   ]
  },
  {
   "cell_type": "code",
   "execution_count": 186,
   "metadata": {},
   "outputs": [
    {
     "data": {
      "text/plain": [
       "\"value > 0.0 and index == '019489e5-ba75-7ad9-9ebd-58e7d22e6b65>bcpsept22poc' and variable == '019489e5-ba75-7ad9-9ebd-58e7d22e6b65>bg-postgresql-db'\""
      ]
     },
     "metadata": {},
     "output_type": "display_data"
    }
   ],
   "source": [
    "mask = f'value > {number.value}' \n",
    "\n",
    "if database_A.value != \"\": mask = f\"{mask} and index == '{database_A.value}'\"\n",
    "\n",
    "if database_B.value != \"\": mask = f\"{mask} and variable == '{database_B.value}'\"\n",
    "\n",
    "display(mask)"
   ]
  },
  {
   "cell_type": "code",
   "execution_count": 187,
   "metadata": {},
   "outputs": [
    {
     "data": {
      "text/html": [
       "<div>\n",
       "<style scoped>\n",
       "    .dataframe tbody tr th:only-of-type {\n",
       "        vertical-align: middle;\n",
       "    }\n",
       "\n",
       "    .dataframe tbody tr th {\n",
       "        vertical-align: top;\n",
       "    }\n",
       "\n",
       "    .dataframe thead th {\n",
       "        text-align: right;\n",
       "    }\n",
       "</style>\n",
       "<table border=\"1\" class=\"dataframe\">\n",
       "  <thead>\n",
       "    <tr style=\"text-align: right;\">\n",
       "      <th></th>\n",
       "      <th>index</th>\n",
       "      <th>variable</th>\n",
       "      <th>value</th>\n",
       "    </tr>\n",
       "  </thead>\n",
       "  <tbody>\n",
       "    <tr>\n",
       "      <th>543</th>\n",
       "      <td>019489e5-ba75-7ad9-9ebd-58e7d22e6b65&gt;bcpsept22poc</td>\n",
       "      <td>019489e5-ba75-7ad9-9ebd-58e7d22e6b65&gt;bg-postgr...</td>\n",
       "      <td>0.166667</td>\n",
       "    </tr>\n",
       "  </tbody>\n",
       "</table>\n",
       "</div>"
      ],
      "text/plain": [
       "                                                 index  \\\n",
       "543  019489e5-ba75-7ad9-9ebd-58e7d22e6b65>bcpsept22poc   \n",
       "\n",
       "                                              variable     value  \n",
       "543  019489e5-ba75-7ad9-9ebd-58e7d22e6b65>bg-postgr...  0.166667  "
      ]
     },
     "execution_count": 187,
     "metadata": {},
     "output_type": "execute_result"
    }
   ],
   "source": [
    "similarity_df_melted.query(mask)"
   ]
  },
  {
   "cell_type": "code",
   "execution_count": 188,
   "metadata": {},
   "outputs": [
    {
     "data": {
      "text/html": [
       "\n",
       "<style>\n",
       "  #altair-viz-42be34e3da4249968ab8890730bbc524.vega-embed {\n",
       "    width: 100%;\n",
       "    display: flex;\n",
       "  }\n",
       "\n",
       "  #altair-viz-42be34e3da4249968ab8890730bbc524.vega-embed details,\n",
       "  #altair-viz-42be34e3da4249968ab8890730bbc524.vega-embed details summary {\n",
       "    position: relative;\n",
       "  }\n",
       "</style>\n",
       "<div id=\"altair-viz-42be34e3da4249968ab8890730bbc524\"></div>\n",
       "<script type=\"text/javascript\">\n",
       "  var VEGA_DEBUG = (typeof VEGA_DEBUG == \"undefined\") ? {} : VEGA_DEBUG;\n",
       "  (function(spec, embedOpt){\n",
       "    let outputDiv = document.currentScript.previousElementSibling;\n",
       "    if (outputDiv.id !== \"altair-viz-42be34e3da4249968ab8890730bbc524\") {\n",
       "      outputDiv = document.getElementById(\"altair-viz-42be34e3da4249968ab8890730bbc524\");\n",
       "    }\n",
       "\n",
       "    const paths = {\n",
       "      \"vega\": \"https://cdn.jsdelivr.net/npm/vega@5?noext\",\n",
       "      \"vega-lib\": \"https://cdn.jsdelivr.net/npm/vega-lib?noext\",\n",
       "      \"vega-lite\": \"https://cdn.jsdelivr.net/npm/vega-lite@5.20.1?noext\",\n",
       "      \"vega-embed\": \"https://cdn.jsdelivr.net/npm/vega-embed@6?noext\",\n",
       "    };\n",
       "\n",
       "    function maybeLoadScript(lib, version) {\n",
       "      var key = `${lib.replace(\"-\", \"\")}_version`;\n",
       "      return (VEGA_DEBUG[key] == version) ?\n",
       "        Promise.resolve(paths[lib]) :\n",
       "        new Promise(function(resolve, reject) {\n",
       "          var s = document.createElement('script');\n",
       "          document.getElementsByTagName(\"head\")[0].appendChild(s);\n",
       "          s.async = true;\n",
       "          s.onload = () => {\n",
       "            VEGA_DEBUG[key] = version;\n",
       "            return resolve(paths[lib]);\n",
       "          };\n",
       "          s.onerror = () => reject(`Error loading script: ${paths[lib]}`);\n",
       "          s.src = paths[lib];\n",
       "        });\n",
       "    }\n",
       "\n",
       "    function showError(err) {\n",
       "      outputDiv.innerHTML = `<div class=\"error\" style=\"color:red;\">${err}</div>`;\n",
       "      throw err;\n",
       "    }\n",
       "\n",
       "    function displayChart(vegaEmbed) {\n",
       "      vegaEmbed(outputDiv, spec, embedOpt)\n",
       "        .catch(err => showError(`Javascript Error: ${err.message}<br>This usually means there's a typo in your chart specification. See the javascript console for the full traceback.`));\n",
       "    }\n",
       "\n",
       "    if(typeof define === \"function\" && define.amd) {\n",
       "      requirejs.config({paths});\n",
       "      let deps = [\"vega-embed\"];\n",
       "      require(deps, displayChart, err => showError(`Error loading script: ${err.message}`));\n",
       "    } else {\n",
       "      maybeLoadScript(\"vega\", \"5\")\n",
       "        .then(() => maybeLoadScript(\"vega-lite\", \"5.20.1\"))\n",
       "        .then(() => maybeLoadScript(\"vega-embed\", \"6\"))\n",
       "        .catch(showError)\n",
       "        .then(() => displayChart(vegaEmbed));\n",
       "    }\n",
       "  })({\"$schema\": \"https://vega.github.io/schema/vega/v5.json\", \"data\": [{\"name\": \"source_0\", \"values\": [{\"index\": \"019489e5-ba75-7ad9-9ebd-58e7d22e6b65>bcpsept22poc\", \"value\": 0.16666666666666666, \"variable\": \"019489e5-ba75-7ad9-9ebd-58e7d22e6b65>bg-postgresql-db\"}]}, {\"name\": \"source_0_x_domain_variable\", \"values\": [{\"variable\": \"019489e5-ba75-7ad9-9ebd-58e7d22e6b65>bg-postgresql-db\"}]}, {\"name\": \"source_0_y_domain_index\", \"values\": [{\"index\": \"019489e5-ba75-7ad9-9ebd-58e7d22e6b65>bcpsept22poc\"}]}, {\"name\": \"source_0_color_domain_value\", \"values\": [{\"min\": 0.16666666666666666, \"max\": 0.16666666666666666}]}], \"signals\": [{\"name\": \"y_step\", \"value\": 20}, {\"name\": \"height\", \"update\": \"bandspace(domain('y').length, 0, 0) * y_step\"}], \"marks\": [{\"type\": \"rect\", \"name\": \"marks\", \"from\": {\"data\": \"source_0\"}, \"encode\": {\"update\": {\"width\": {\"signal\": \"max(0.25, bandwidth('x'))\"}, \"y\": {\"field\": \"index\", \"scale\": \"y\"}, \"height\": {\"signal\": \"max(0.25, bandwidth('y'))\"}, \"fill\": {\"field\": \"value\", \"scale\": \"color\"}, \"tooltip\": {\"signal\": \"{\\\"variable\\\": isValid(datum[\\\"variable\\\"]) ? datum[\\\"variable\\\"] : \\\"\\\"+datum[\\\"variable\\\"], \\\"index\\\": isValid(datum[\\\"index\\\"]) ? datum[\\\"index\\\"] : \\\"\\\"+datum[\\\"index\\\"], \\\"value\\\": format(datum[\\\"value\\\"], \\\"\\\")}\"}, \"x\": {\"field\": \"variable\", \"scale\": \"x\"}}}, \"style\": [\"rect\"]}], \"scales\": [{\"name\": \"x\", \"type\": \"band\", \"domain\": {\"data\": \"source_0_x_domain_variable\", \"field\": \"variable\", \"sort\": true}, \"range\": [0, {\"signal\": \"width\"}], \"paddingInner\": 0, \"paddingOuter\": 0}, {\"name\": \"y\", \"type\": \"band\", \"domain\": {\"data\": \"source_0_y_domain_index\", \"field\": \"index\", \"sort\": true}, \"range\": {\"step\": {\"signal\": \"y_step\"}}, \"paddingOuter\": 0, \"paddingInner\": 0}, {\"name\": \"color\", \"type\": \"linear\", \"domain\": [{\"signal\": \"(data(\\\"source_0_color_domain_value\\\")[0] || {}).min\"}, {\"signal\": \"(data(\\\"source_0_color_domain_value\\\")[0] || {}).max\"}], \"range\": {\"scheme\": \"orangered\"}, \"reverse\": false, \"zero\": false, \"interpolate\": \"hcl\"}], \"axes\": [{\"scale\": \"x\", \"orient\": \"bottom\", \"labelAngle\": 0, \"grid\": false, \"title\": \"Finding severity\", \"zindex\": 1, \"labelBaseline\": \"top\", \"labels\": false}, {\"scale\": \"y\", \"labelAlign\": \"right\", \"zindex\": 1, \"labelAngle\": 0, \"grid\": false, \"labels\": false, \"title\": \"Resource type\", \"orient\": \"left\"}], \"title\": {\"text\": \"Similarity\", \"frame\": \"group\"}, \"width\": 940, \"background\": \"white\", \"padding\": 5, \"style\": \"cell\"}, {\"mode\": \"vega\"});\n",
       "</script>"
      ],
      "text/plain": [
       "alt.Chart(...)"
      ]
     },
     "execution_count": 188,
     "metadata": {},
     "output_type": "execute_result"
    }
   ],
   "source": [
    "\n",
    "alt.Chart(similarity_df_melted.query(mask)).mark_rect().encode(\n",
    "    alt.X('variable', axis=alt.Axis(labels=False, labelAngle=0)).title('Finding severity'),\n",
    "    alt.Y('index', axis=alt.Axis(labels=False, labelAngle=0)).title('Resource type'),\n",
    "    alt.Color('value', legend=None).scale(scheme=\"orangered\", reverse=False),\n",
    "    alt.Text('value'), \n",
    "    tooltip=[\"variable\",\"index\",\"value\"]\n",
    ").properties(title='Similarity', width=940)\n"
   ]
  },
  {
   "cell_type": "code",
   "execution_count": 193,
   "metadata": {},
   "outputs": [
    {
     "name": "stdout",
     "output_type": "stream",
     "text": [
      "Database 019489e5-ba75-7ad9-9ebd-58e7d22e6b65>bcpsept22poc ['POSTGRES', 'PENDING']\n",
      "Database 019489e5-ba75-7ad9-9ebd-58e7d22e6b65>bg-postgresql-db ['CA_DDS_CMF', 'PENDING', 'CFPB', 'DOH_AHMD', 'DRR', 'MOCK', 'POSTGRES', 'SAMPLE_DATA', 'SAMPLE', 'SEC', 'SRP', 'UTILITY']\n",
      "Intersection {'PENDING', 'POSTGRES'}\n",
      "Union {'SAMPLE', 'SAMPLE_DATA', 'SRP', 'PENDING', 'POSTGRES', 'SEC', 'CA_DDS_CMF', 'MOCK', 'DRR', 'DOH_AHMD', 'UTILITY', 'CFPB'}\n"
     ]
    }
   ],
   "source": [
    "if database_A.value != \"\" and database_B.value != \"\":\n",
    "    print('Database', database_A.value, names_per_database[database_A.value])\n",
    "    print('Database', database_B.value, names_per_database[database_B.value])\n",
    "    print('Intersection', set.intersection(*[set(names_per_database[database_A.value]), set(names_per_database[database_B.value])]))\n",
    "    print('Union', set.union(*[set(names_per_database[database_A.value]), set(names_per_database[database_B.value])]))"
   ]
  },
  {
   "cell_type": "code",
   "execution_count": null,
   "metadata": {},
   "outputs": [],
   "source": [
    "#done"
   ]
  },
  {
   "cell_type": "code",
   "execution_count": 52,
   "metadata": {},
   "outputs": [],
   "source": [
    "# sns.set_theme(style='whitegrid')\n",
    "\n",
    "# fig=plt.figure(figsize=(16,16))\n",
    "\n",
    "# mask = np.where(matrix <= 0.8, True, False)\n",
    "\n",
    "# sns.heatmap(similarity_df, cmap='bwr', xticklabels=False, yticklabels=False, square=True, mask =mask)\n",
    "\n",
    "# sns.despine(left=True,bottom=True)\n",
    "\n",
    "# plt.title('Correlation matrix')\n",
    "\n",
    "# plt.show()"
   ]
  },
  {
   "cell_type": "code",
   "execution_count": null,
   "metadata": {},
   "outputs": [],
   "source": [
    "#done"
   ]
  }
 ],
 "metadata": {
  "kernelspec": {
   "display_name": "Python 3",
   "language": "python",
   "name": "python3"
  },
  "language_info": {
   "codemirror_mode": {
    "name": "ipython",
    "version": 3
   },
   "file_extension": ".py",
   "mimetype": "text/x-python",
   "name": "python",
   "nbconvert_exporter": "python",
   "pygments_lexer": "ipython3",
   "version": "3.9.6"
  }
 },
 "nbformat": 4,
 "nbformat_minor": 2
}
